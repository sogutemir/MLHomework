{
 "cells": [
  {
   "cell_type": "code",
   "execution_count": 30,
   "metadata": {},
   "outputs": [],
   "source": [
    "import numpy as np\n",
    "from matplotlib import pyplot as plt\n",
    "from keras.datasets import mnist\n",
    "from keras.utils import to_categorical\n",
    "from keras.models import Sequential\n",
    "from keras.layers import Dense\n",
    "from keras.optimizers import Adam\n",
    "from keras.layers import LeakyReLU\n",
    "from keras import regularizers\n",
    "from keras.callbacks import EarlyStopping\n",
    "from keras.layers import Dropout\n",
    "from keras.callbacks import LearningRateScheduler, ReduceLROnPlateau, EarlyStopping"
   ]
  },
  {
   "cell_type": "code",
   "execution_count": 31,
   "metadata": {},
   "outputs": [],
   "source": [
    "(X_train, Y_train), (X_test, Y_test) = mnist.load_data()\n",
    "\n",
    "X_train = X_train.reshape(X_train.shape[0], -1).astype('float32') / 255\n",
    "X_test = X_test.reshape(X_test.shape[0], -1).astype('float32') / 255\n",
    "\n",
    "Y_train_encoded = to_categorical(Y_train, num_classes=10)\n",
    "Y_test_encoded = to_categorical(Y_test, num_classes=10)\n"
   ]
  },
  {
   "cell_type": "code",
   "execution_count": 32,
   "metadata": {},
   "outputs": [],
   "source": [
    "model = Sequential([\n",
    "    Dense(units=128, input_shape=(784,), kernel_regularizer=regularizers.l2(0.01)),\n",
    "    LeakyReLU(alpha=0.01),\n",
    "    Dropout(0.5),\n",
    "    Dense(units=128, kernel_regularizer=regularizers.l2(0.01)),\n",
    "    LeakyReLU(alpha=0.01),\n",
    "    Dropout(0.5),\n",
    "    Dense(units=64, kernel_regularizer=regularizers.l2(0.01)),\n",
    "    LeakyReLU(alpha=0.01),\n",
    "    Dropout(0.5),\n",
    "    Dense(units=10, activation='softmax') \n",
    "])\n"
   ]
  },
  {
   "cell_type": "code",
   "execution_count": 33,
   "metadata": {},
   "outputs": [],
   "source": [
    "\n",
    "def scheduler(epoch, lr):\n",
    "    if epoch < 10:\n",
    "        return lr\n",
    "    else:\n",
    "        return lr * tf.math.exp(-0.1)\n",
    "\n",
    "\n",
    "lr_scheduler = LearningRateScheduler(scheduler)\n",
    "\n",
    "reduce_lr = ReduceLROnPlateau(monitor='val_loss', factor=0.2, patience=2, min_lr=0.0001)\n",
    "\n",
    "early_stopping = EarlyStopping(monitor='val_loss', patience=5, verbose=1, mode='min', restore_best_weights=True)\n",
    "\n",
    "model.compile(loss='categorical_crossentropy',\n",
    "              optimizer='RMSprop',  \n",
    "              metrics=['accuracy', 'precision', 'recall'])\n",
    "\n"
   ]
  },
  {
   "cell_type": "code",
   "execution_count": 34,
   "metadata": {},
   "outputs": [
    {
     "name": "stdout",
     "output_type": "stream",
     "text": [
      "Model: \"sequential_3\"\n",
      "_________________________________________________________________\n",
      " Layer (type)                Output Shape              Param #   \n",
      "=================================================================\n",
      " dense_12 (Dense)            (None, 128)               100480    \n",
      "                                                                 \n",
      " leaky_re_lu_9 (LeakyReLU)   (None, 128)               0         \n",
      "                                                                 \n",
      " dropout_9 (Dropout)         (None, 128)               0         \n",
      "                                                                 \n",
      " dense_13 (Dense)            (None, 128)               16512     \n",
      "                                                                 \n",
      " leaky_re_lu_10 (LeakyReLU)  (None, 128)               0         \n",
      "                                                                 \n",
      " dropout_10 (Dropout)        (None, 128)               0         \n",
      "                                                                 \n",
      " dense_14 (Dense)            (None, 64)                8256      \n",
      "                                                                 \n",
      " leaky_re_lu_11 (LeakyReLU)  (None, 64)                0         \n",
      "                                                                 \n",
      " dropout_11 (Dropout)        (None, 64)                0         \n",
      "                                                                 \n",
      " dense_15 (Dense)            (None, 10)                650       \n",
      "                                                                 \n",
      "=================================================================\n",
      "Total params: 125898 (491.79 KB)\n",
      "Trainable params: 125898 (491.79 KB)\n",
      "Non-trainable params: 0 (0.00 Byte)\n",
      "_________________________________________________________________\n"
     ]
    }
   ],
   "source": [
    "from tensorflow.keras.metrics import Precision, Recall\n",
    "\n",
    "model.compile(\n",
    "    loss='categorical_crossentropy',\n",
    "    optimizer='RMSprop', \n",
    "    metrics=['accuracy', Precision(), Recall()] \n",
    ")\n",
    "\n",
    "batch_size = 32\n",
    "epochs = 5\n",
    "\n",
    "model.summary()\n"
   ]
  },
  {
   "cell_type": "code",
   "execution_count": 35,
   "metadata": {},
   "outputs": [
    {
     "name": "stdout",
     "output_type": "stream",
     "text": [
      "Epoch 1/5\n",
      "1500/1500 [==============================] - 4s 2ms/step - loss: 1.5365 - accuracy: 0.7326 - precision_2: 0.8656 - recall_2: 0.5953 - val_loss: 0.7166 - val_accuracy: 0.9033 - val_precision_2: 0.9369 - val_recall_2: 0.8697 - lr: 0.0010\n",
      "Epoch 2/5\n",
      "1500/1500 [==============================] - 3s 2ms/step - loss: 0.9245 - accuracy: 0.8319 - precision_2: 0.8863 - recall_2: 0.7601 - val_loss: 0.6412 - val_accuracy: 0.9117 - val_precision_2: 0.9398 - val_recall_2: 0.8841 - lr: 0.0010\n",
      "Epoch 3/5\n",
      "1500/1500 [==============================] - 3s 2ms/step - loss: 0.8625 - accuracy: 0.8420 - precision_2: 0.8917 - recall_2: 0.7831 - val_loss: 0.5919 - val_accuracy: 0.9183 - val_precision_2: 0.9424 - val_recall_2: 0.8978 - lr: 0.0010\n",
      "Epoch 4/5\n",
      "1500/1500 [==============================] - 4s 2ms/step - loss: 0.8296 - accuracy: 0.8504 - precision_2: 0.8958 - recall_2: 0.7963 - val_loss: 0.5742 - val_accuracy: 0.9228 - val_precision_2: 0.9451 - val_recall_2: 0.9032 - lr: 0.0010\n",
      "Epoch 5/5\n",
      "1500/1500 [==============================] - 4s 3ms/step - loss: 0.8121 - accuracy: 0.8541 - precision_2: 0.8984 - recall_2: 0.8026 - val_loss: 0.5932 - val_accuracy: 0.9107 - val_precision_2: 0.9398 - val_recall_2: 0.8879 - lr: 0.0010\n",
      "313/313 [==============================] - 1s 2ms/step - loss: 0.5881 - accuracy: 0.9076 - precision_2: 0.9358 - recall_2: 0.8873\n",
      "Test accuracy: 0.9076\n",
      "Test precision: 0.9358\n",
      "Test recall: 0.8873\n"
     ]
    }
   ],
   "source": [
    "history = model.fit(\n",
    "    X_train,\n",
    "    Y_train_encoded,\n",
    "    batch_size=batch_size,\n",
    "    epochs=epochs,\n",
    "    validation_split=0.2,\n",
    "    callbacks=[early_stopping, reduce_lr, lr_scheduler]\n",
    ")\n",
    "\n",
    "loss, accuracy, precision, recall = model.evaluate(X_test, Y_test_encoded)\n",
    "print(f\"Test accuracy: {accuracy:.4f}\")\n",
    "print(f\"Test precision: {precision:.4f}\")\n",
    "print(f\"Test recall: {recall:.4f}\")"
   ]
  },
  {
   "cell_type": "code",
   "execution_count": 36,
   "metadata": {},
   "outputs": [
    {
     "data": {
      "image/png": "[encoded data removed]",
      "text/plain": [
       "<Figure size 640x480 with 1 Axes>"
      ]
     },
     "metadata": {},
     "output_type": "display_data"
    },
    {
     "data": {
      "image/png": "[encoded data removed]",
      "text/plain": [
       "<Figure size 640x480 with 1 Axes>"
      ]
     },
     "metadata": {},
     "output_type": "display_data"
    }
   ],
   "source": [
    "plt.plot(history.history['accuracy'])\n",
    "plt.plot(history.history['val_accuracy'])\n",
    "plt.title('Model Accuracy')\n",
    "plt.ylabel('Accuracy')\n",
    "plt.xlabel('Epoch')\n",
    "plt.legend(['Train', 'Val'], loc='upper left')\n",
    "plt.show()\n",
    "\n",
    "plt.plot(history.history['loss'])\n",
    "plt.plot(history.history['val_loss'])\n",
    "plt.title('Model Loss')\n",
    "plt.ylabel('Loss')\n",
    "plt.xlabel('Epoch')\n",
    "plt.legend(['Train', 'Val'], loc='upper left')\n",
    "plt.show()\n"
   ]
  },
  {
   "cell_type": "code",
   "execution_count": 37,
   "metadata": {},
   "outputs": [],
   "source": [
    "def init_params():\n",
    "    W1 = np.random.randn(10, 784) * np.sqrt(2./784)\n",
    "    b1 = np.zeros((10, 1))\n",
    "    W2 = np.random.randn(10, 10) * np.sqrt(2./10)\n",
    "    b2 = np.zeros((10, 1))\n",
    "    return W1, b1, W2, b2\n",
    "\n",
    "def ReLU(Z):\n",
    "    return np.maximum(Z, 0)\n",
    "\n",
    "def softmax(Z):\n",
    "    e_Z = np.exp(Z - np.max(Z))\n",
    "    return e_Z / e_Z.sum(axis=0, keepdims=True)\n",
    "\n",
    "def ReLU_deriv(Z):\n",
    "    return Z > 0\n",
    "\n",
    "def one_hot(Y):\n",
    "    one_hot_Y = np.zeros((Y.size, 10))\n",
    "    one_hot_Y[np.arange(Y.size), Y] = 1\n",
    "    return one_hot_Y.T"
   ]
  },
  {
   "cell_type": "code",
   "execution_count": 38,
   "metadata": {},
   "outputs": [],
   "source": [
    "def forward_prop(W1, b1, W2, b2, X):\n",
    "    Z1 = W1.dot(X) + b1\n",
    "    A1 = ReLU(Z1)\n",
    "    Z2 = W2.dot(A1) + b2\n",
    "    A2 = softmax(Z2)\n",
    "    return Z1, A1, Z2, A2\n",
    "\n",
    "def backward_prop(Z1, A1, Z2, A2, W1, W2, X, Y):\n",
    "    one_hot_Y = one_hot(Y)\n",
    "    m = Y.size\n",
    "    dZ2 = A2 - one_hot_Y\n",
    "    dW2 = 1 / m * dZ2.dot(A1.T)\n",
    "    db2 = 1 / m * np.sum(dZ2, axis=1, keepdims=True)\n",
    "    dZ1 = W2.T.dot(dZ2) * ReLU_deriv(Z1)\n",
    "    dW1 = 1 / m * dZ1.dot(X.T)\n",
    "    db1 = 1 / m * np.sum(dZ1, axis=1, keepdims=True)\n",
    "    return dW1, db1, dW2, db2"
   ]
  },
  {
   "cell_type": "code",
   "execution_count": 39,
   "metadata": {},
   "outputs": [],
   "source": [
    "\n",
    "def update_params(W1, b1, W2, b2, dW1, db1, dW2, db2, learning_rate):\n",
    "    W1 -= learning_rate * dW1\n",
    "    b1 -= learning_rate * db1\n",
    "    W2 -= learning_rate * dW2\n",
    "    b2 -= learning_rate * db2\n",
    "    return W1, b1, W2, b2"
   ]
  },
  {
   "cell_type": "code",
   "execution_count": 40,
   "metadata": {},
   "outputs": [],
   "source": [
    "def get_predictions(A2):\n",
    "    return np.argmax(A2, 0)\n",
    "\n",
    "def get_accuracy(predictions, Y):\n",
    "    return np.sum(predictions == Y) / Y.size\n",
    "\n",
    "def gradient_descent(X, Y, learning_rate, iterations):\n",
    "    W1, b1, W2, b2 = init_params()\n",
    "    for i in range(iterations):\n",
    "        Z1, A1, Z2, A2 = forward_prop(W1, b1, W2, b2, X)\n",
    "        dW1, db1, dW2, db2 = backward_prop(Z1, A1, Z2, A2, W1, W2, X, Y)\n",
    "        W1, b1, W2, b2 = update_params(W1, b1, W2, b2, dW1, db1, dW2, db2, learning_rate)\n",
    "        if i % 10 == 0:\n",
    "            predictions = get_predictions(A2)\n",
    "            print(f\"Iteration: {i}, Accuracy: {get_accuracy(predictions, Y)}\")\n",
    "    return W1, b1, W2, b2"
   ]
  },
  {
   "cell_type": "code",
   "execution_count": 41,
   "metadata": {},
   "outputs": [
    {
     "name": "stdout",
     "output_type": "stream",
     "text": [
      "Iteration: 0, Accuracy: 0.09781666666666666\n",
      "Iteration: 10, Accuracy: 0.19198333333333334\n",
      "Iteration: 20, Accuracy: 0.33225\n",
      "Iteration: 30, Accuracy: 0.4597833333333333\n",
      "Iteration: 40, Accuracy: 0.5359166666666667\n",
      "Iteration: 50, Accuracy: 0.6292333333333333\n",
      "Iteration: 60, Accuracy: 0.74595\n",
      "Iteration: 70, Accuracy: 0.7929\n",
      "Iteration: 80, Accuracy: 0.8103333333333333\n",
      "Iteration: 90, Accuracy: 0.8229833333333333\n",
      "Iteration: 100, Accuracy: 0.83345\n",
      "Iteration: 110, Accuracy: 0.8416166666666667\n",
      "Iteration: 120, Accuracy: 0.84795\n",
      "Iteration: 130, Accuracy: 0.8541\n",
      "Iteration: 140, Accuracy: 0.85955\n",
      "Iteration: 150, Accuracy: 0.86415\n",
      "Iteration: 160, Accuracy: 0.8680833333333333\n",
      "Iteration: 170, Accuracy: 0.8711833333333333\n",
      "Iteration: 180, Accuracy: 0.8743166666666666\n",
      "Iteration: 190, Accuracy: 0.87695\n",
      "Iteration: 200, Accuracy: 0.87965\n",
      "Iteration: 210, Accuracy: 0.8816833333333334\n",
      "Iteration: 220, Accuracy: 0.8834\n",
      "Iteration: 230, Accuracy: 0.8850833333333333\n",
      "Iteration: 240, Accuracy: 0.8866666666666667\n",
      "Iteration: 250, Accuracy: 0.8881833333333333\n",
      "Iteration: 260, Accuracy: 0.8896333333333334\n",
      "Iteration: 270, Accuracy: 0.8909166666666667\n",
      "Iteration: 280, Accuracy: 0.8922666666666667\n",
      "Iteration: 290, Accuracy: 0.89345\n",
      "Iteration: 300, Accuracy: 0.8945666666666666\n",
      "Iteration: 310, Accuracy: 0.8956333333333333\n",
      "Iteration: 320, Accuracy: 0.8966\n",
      "Iteration: 330, Accuracy: 0.8976833333333334\n",
      "Iteration: 340, Accuracy: 0.8986166666666666\n",
      "Iteration: 350, Accuracy: 0.8994166666666666\n",
      "Iteration: 360, Accuracy: 0.9000666666666667\n",
      "Iteration: 370, Accuracy: 0.9006\n",
      "Iteration: 380, Accuracy: 0.9014166666666666\n",
      "Iteration: 390, Accuracy: 0.9018833333333334\n",
      "Iteration: 400, Accuracy: 0.9025166666666666\n",
      "Iteration: 410, Accuracy: 0.90295\n",
      "Iteration: 420, Accuracy: 0.9036\n",
      "Iteration: 430, Accuracy: 0.9041666666666667\n",
      "Iteration: 440, Accuracy: 0.9047833333333334\n",
      "Iteration: 450, Accuracy: 0.9052166666666667\n",
      "Iteration: 460, Accuracy: 0.9057666666666667\n",
      "Iteration: 470, Accuracy: 0.9064333333333333\n",
      "Iteration: 480, Accuracy: 0.9068833333333334\n",
      "Iteration: 490, Accuracy: 0.90725\n",
      "Iteration: 500, Accuracy: 0.9078\n",
      "Iteration: 510, Accuracy: 0.9079\n",
      "Iteration: 520, Accuracy: 0.90835\n",
      "Iteration: 530, Accuracy: 0.9088\n",
      "Iteration: 540, Accuracy: 0.9091166666666667\n",
      "Iteration: 550, Accuracy: 0.9094333333333333\n",
      "Iteration: 560, Accuracy: 0.9096833333333333\n",
      "Iteration: 570, Accuracy: 0.9101166666666667\n",
      "Iteration: 580, Accuracy: 0.9104833333333333\n",
      "Iteration: 590, Accuracy: 0.9108666666666667\n",
      "Iteration: 600, Accuracy: 0.9112333333333333\n",
      "Iteration: 610, Accuracy: 0.9116333333333333\n",
      "Iteration: 620, Accuracy: 0.9119166666666667\n",
      "Iteration: 630, Accuracy: 0.9122333333333333\n",
      "Iteration: 640, Accuracy: 0.9123666666666667\n",
      "Iteration: 650, Accuracy: 0.9126833333333333\n",
      "Iteration: 660, Accuracy: 0.9128333333333334\n",
      "Iteration: 670, Accuracy: 0.913\n",
      "Iteration: 680, Accuracy: 0.9131666666666667\n",
      "Iteration: 690, Accuracy: 0.9134833333333333\n",
      "Iteration: 700, Accuracy: 0.91375\n",
      "Iteration: 710, Accuracy: 0.9139333333333334\n",
      "Iteration: 720, Accuracy: 0.9140833333333334\n",
      "Iteration: 730, Accuracy: 0.9143833333333333\n",
      "Iteration: 740, Accuracy: 0.9145166666666666\n",
      "Iteration: 750, Accuracy: 0.9147\n",
      "Iteration: 760, Accuracy: 0.9149333333333334\n",
      "Iteration: 770, Accuracy: 0.91515\n",
      "Iteration: 780, Accuracy: 0.91545\n",
      "Iteration: 790, Accuracy: 0.9157833333333333\n",
      "Iteration: 800, Accuracy: 0.9159333333333334\n",
      "Iteration: 810, Accuracy: 0.9160166666666667\n",
      "Iteration: 820, Accuracy: 0.9162333333333333\n",
      "Iteration: 830, Accuracy: 0.9163833333333333\n",
      "Iteration: 840, Accuracy: 0.9166166666666666\n",
      "Iteration: 850, Accuracy: 0.9167833333333333\n",
      "Iteration: 860, Accuracy: 0.9170666666666667\n",
      "Iteration: 870, Accuracy: 0.9172\n",
      "Iteration: 880, Accuracy: 0.9174166666666667\n",
      "Iteration: 890, Accuracy: 0.9176666666666666\n",
      "Iteration: 900, Accuracy: 0.9178333333333333\n",
      "Iteration: 910, Accuracy: 0.9179333333333334\n",
      "Iteration: 920, Accuracy: 0.9181166666666667\n",
      "Iteration: 930, Accuracy: 0.9181666666666667\n",
      "Iteration: 940, Accuracy: 0.9183666666666667\n",
      "Iteration: 950, Accuracy: 0.9185666666666666\n",
      "Iteration: 960, Accuracy: 0.9188666666666667\n",
      "Iteration: 970, Accuracy: 0.9190333333333334\n",
      "Iteration: 980, Accuracy: 0.9191333333333334\n",
      "Iteration: 990, Accuracy: 0.9192333333333333\n"
     ]
    }
   ],
   "source": [
    "X_train_flat = X_train.T\n",
    "Y_train_flat = Y_train.T\n",
    "\n",
    "W1, b1, W2, b2 = gradient_descent(X_train_flat, Y_train_flat, 0.1, 1000)"
   ]
  },
  {
   "cell_type": "code",
   "execution_count": 42,
   "metadata": {},
   "outputs": [
    {
     "name": "stdout",
     "output_type": "stream",
     "text": [
      "Test accuracy: 0.9193\n"
     ]
    }
   ],
   "source": [
    "_, _, _, A2 = forward_prop(W1, b1, W2, b2, X_test.T)\n",
    "predictions = get_predictions(A2)\n",
    "accuracy = get_accuracy(predictions, Y_test)\n",
    "print(f\"Test accuracy: {accuracy}\")"
   ]
  },
  {
   "cell_type": "code",
   "execution_count": null,
   "metadata": {},
   "outputs": [],
   "source": []
  }
 ],
 "metadata": {
  "kernelspec": {
   "display_name": "base",
   "language": "python",
   "name": "python3"
  },
  "language_info": {
   "codemirror_mode": {
    "name": "ipython",
    "version": 3
   },
   "file_extension": ".py",
   "mimetype": "text/x-python",
   "name": "python",
   "nbconvert_exporter": "python",
   "pygments_lexer": "ipython3",
   "version": "3.11.5"
  }
 },
 "nbformat": 4,
 "nbformat_minor": 2
}
